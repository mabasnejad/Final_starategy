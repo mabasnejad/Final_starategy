{
 "cells": [
  {
   "cell_type": "code",
   "execution_count": 1,
   "metadata": {},
   "outputs": [
    {
     "name": "stderr",
     "output_type": "stream",
     "text": [
      "C:\\Users\\LEnovo pc\\anaconda3\\envs\\machine\\lib\\site-packages\\numpy\\_distributor_init.py:30: UserWarning: loaded more than 1 DLL from .libs:\n",
      "C:\\Users\\LEnovo pc\\anaconda3\\envs\\machine\\lib\\site-packages\\numpy\\.libs\\libopenblas.GK7GX5KEQ4F6UYO3P26ULGBQYHGQO7J4.gfortran-win_amd64.dll\n",
      "C:\\Users\\LEnovo pc\\anaconda3\\envs\\machine\\lib\\site-packages\\numpy\\.libs\\libopenblas.JPIJNSWNNAN3CE6LLI5FWSPHUT2VXMTH.gfortran-win_amd64.dll\n",
      "  warnings.warn(\"loaded more than 1 DLL from .libs:\"\n"
     ]
    }
   ],
   "source": [
    "import numpy as np\n",
    "import pandas as pd\n",
    "#import yfinance as yf\n",
    "import matplotlib.pyplot as plt\n",
    "#import mlfinlab  as ml\n",
    "from datetime import datetime,date,timedelta\n",
    "import datetime as dt\n",
    "import MetaTrader5 as mt5\n",
    "#from scipy.signal import savgol_filter\n",
    "#from tsmoothie.utils_func import sim_randomwalk\n",
    "from tsmoothie import smoother\n",
    "#from pyti import money_flow_index\n"
   ]
  },
  {
   "cell_type": "code",
   "execution_count": 2,
   "metadata": {},
   "outputs": [
    {
     "name": "stdout",
     "output_type": "stream",
     "text": [
      "TerminalInfo(community_account=True, community_connection=True, connected=True, dlls_allowed=False, trade_allowed=True, tradeapi_disabled=False, email_enabled=False, ftp_enabled=False, notifications_enabled=False, mqid=True, build=3211, maxbars=100000, codepage=0, ping_last=232716, community_balance=0.0, retransmission=0.8675440319518104, company='Tadbir Pardaz Computer Group', name='MofidTrader 5', language='English', path='C:\\\\Program Files\\\\MofidTrader 5', data_path='C:\\\\Users\\\\LEnovo pc\\\\AppData\\\\Roaming\\\\MetaQuotes\\\\Terminal\\\\7044F95F3CF93795CB2A1F7611022EDA', commondata_path='C:\\\\Users\\\\LEnovo pc\\\\AppData\\\\Roaming\\\\MetaQuotes\\\\Terminal\\\\Common')\n",
      "(500, 3211, '14 Feb 2022')\n"
     ]
    }
   ],
   "source": [
    "# connect to MetaTrader 5\n",
    "if not mt5.initialize():\n",
    "    print(\"initialize() failed\")\n",
    "    mt5.shutdown()\n",
    " \n",
    "# request connection status and parameters\n",
    "print(mt5.terminal_info())\n",
    "# get data on MetaTrader 5 version\n",
    "print(mt5.version())"
   ]
  },
  {
   "cell_type": "markdown",
   "metadata": {},
   "source": [
    "# Read from Metatrader "
   ]
  },
  {
   "cell_type": "code",
   "execution_count": 3,
   "metadata": {},
   "outputs": [],
   "source": [
    "period_H1=\n",
    "period_H2=\n",
    "period_D1=\n",
    "symbol='SAFTR01'"
   ]
  },
  {
   "cell_type": "code",
   "execution_count": 4,
   "metadata": {},
   "outputs": [
    {
     "name": "stdout",
     "output_type": "stream",
     "text": [
      "                open      high       low     close  tick_volume  spread  \\\n",
      "time                                                                      \n",
      "2022-03-27  393200.0  393900.0  384500.0  386200.0          512     100   \n",
      "\n",
      "            real_volume  \n",
      "time                     \n",
      "2022-03-27         1908  \n",
      "time\n",
      "2022-03-27 12:00:00    386200.0\n",
      "Name: close, dtype: float64\n"
     ]
    }
   ],
   "source": [
    "#d1=pd.read_csv(r'C:\\Users\\LEnovo pc\\Downloads\\اپالDaily.csv', encoding = 'utf-16',names=['Date','open','high','low','close','tick_vol','vol'],index_col=0)\n",
    "rat2 = mt5.copy_rates_from_pos(symbol, mt5.TIMEFRAME_D1, 0, 300)\n",
    "d_DAILY=pd.DataFrame()\n",
    "d_DAILY = pd.DataFrame(rat2)\n",
    "d_DAILY['time']=pd.to_datetime(d_DAILY['time'], unit='s')\n",
    "d_DAILY.set_index('time',inplace=True)\n",
    "print(d_DAILY[-1:])\n",
    "###########################################################################3\n",
    "rat = mt5.copy_rates_from_pos(symbol, mt5.TIMEFRAME_H1, 0, 1750)\n",
    "d_H=pd.DataFrame()\n",
    "d_H = pd.DataFrame(rat)\n",
    "d_H['time']=pd.to_datetime(d_H['time'], unit='s')\n",
    "d_H.set_index('time',inplace=True)\n",
    "##########################################################\n",
    "sp_close=d_H.close\n",
    "sp_close.index=pd.to_datetime(sp_close.index[0:])\n",
    "print(sp_close[-1:])\n"
   ]
  },
  {
   "cell_type": "code",
   "execution_count": 5,
   "metadata": {},
   "outputs": [
    {
     "name": "stdout",
     "output_type": "stream",
     "text": [
      "                                     t1      trgt  pt     sl\n",
      "2022-03-03 13:00:00 2022-03-26 10:00:00  0.024095   2  2.618\n",
      "2022-03-05 11:00:00 2022-03-15 10:00:00  0.022312   2  2.618\n",
      "2022-03-05 14:00:00 2022-03-26 10:00:00  0.022093   2  2.618\n",
      "2022-03-06 12:00:00 2022-03-26 10:00:00  0.022204   2  2.618\n",
      "2022-03-07 11:00:00 2022-03-15 10:00:00  0.023826   2  2.618\n",
      "2022-03-09 10:00:00 2022-03-14 12:00:00  0.019873   2  2.618\n",
      "2022-03-13 14:00:00 2022-03-15 10:00:00  0.015400   2  2.618\n",
      "2022-03-14 12:00:00                 NaT  0.017483   2  2.618\n",
      "2022-03-16 13:00:00                 NaT  0.021157   2  2.618\n",
      "2022-03-27 10:00:00                 NaT  0.017317   2  2.618\n"
     ]
    }
   ],
   "source": [
    "import mlfinlab  as ml\n",
    "\n",
    "daily_vol = ml.util.get_daily_vol(close=sp_close, lookback=int(period_H1))\n",
    "#print(daily_vol)\n",
    "\n",
    "# Apply Symmetric CUSUM Filter and get timestamps for events\n",
    "# Note: Only the CUSUM filter needs a point estimate for volatility\n",
    "cusum_events = ml.filters.cusum_filter(sp_close,\n",
    "                                       threshold=daily_vol.mean())\n",
    "#print(cusum_events)\n",
    "\n",
    "# Compute vertical barrier\n",
    "vertical_barriers = ml.labeling.add_vertical_barrier(t_events=cusum_events,\n",
    "                                                     close=sp_close,\n",
    "                                                     num_days=int(period_H1/2))\n",
    "#print((vertical_barriers))\n",
    "#fig,ax=plt.subplots(figsize=(8,6),dpi=300)\n",
    "#ax.plot(sp_close)\n",
    "#ax.scatter(cusum_events,sp_close[cusum_events],c='r')\n",
    "#########################################################################\n",
    "\n",
    "pt_sl = [2, 2.618]\n",
    "#print(daily_vol.mean())\n",
    "min_ret = daily_vol.mean()/1.618\n",
    "triple_barrier_events = ml.labeling.get_events(close=sp_close,\n",
    "                                               t_events=cusum_events,\n",
    "                                               pt_sl=pt_sl,\n",
    "                                               target=daily_vol,\n",
    "                                               min_ret=min_ret,\n",
    "                                               num_threads=1,\n",
    "                                               vertical_barrier_times=vertical_barriers,\n",
    "                                               )\n",
    "\n",
    "print(triple_barrier_events[-10:])\n",
    "#print(daily_vol[-10:])\n",
    "#print(daily_vol.mean())"
   ]
  },
  {
   "cell_type": "code",
   "execution_count": 6,
   "metadata": {},
   "outputs": [
    {
     "name": "stdout",
     "output_type": "stream",
     "text": [
      "                          ret      trgt  bin                  t1  Exit_Price\n",
      "2022-02-28 10:00:00 -0.068469  0.024376   -1 2022-03-09 10:00:00    375500.0\n",
      "2022-03-02 13:00:00  0.001773  0.023207    0 2022-03-26 10:00:00    395600.0\n",
      "2022-03-03 10:00:00  0.051945  0.024924    1 2022-03-15 10:00:00    403000.0\n",
      "2022-03-03 13:00:00  0.010473  0.024095    0 2022-03-26 10:00:00    395600.0\n",
      "2022-03-05 11:00:00  0.047297  0.022312    1 2022-03-15 10:00:00    403000.0\n",
      "2022-03-05 14:00:00 -0.005530  0.022093    0 2022-03-26 10:00:00    395600.0\n",
      "2022-03-06 12:00:00  0.015140  0.022204    0 2022-03-26 10:00:00    395600.0\n",
      "2022-03-07 11:00:00  0.058020  0.023826    1 2022-03-15 10:00:00    403000.0\n",
      "2022-03-09 10:00:00  0.054328  0.019873    1 2022-03-14 12:00:00    395900.0\n",
      "2022-03-13 14:00:00  0.045396  0.015400    1 2022-03-15 10:00:00    403000.0\n"
     ]
    },
    {
     "name": "stderr",
     "output_type": "stream",
     "text": [
      "C:\\Users\\LEnovo pc\\anaconda3\\envs\\machine\\lib\\site-packages\\pandas\\core\\indexing.py:670: SettingWithCopyWarning: \n",
      "A value is trying to be set on a copy of a slice from a DataFrame\n",
      "\n",
      "See the caveats in the documentation: https://pandas.pydata.org/pandas-docs/stable/user_guide/indexing.html#returning-a-view-versus-a-copy\n",
      "  iloc._setitem_with_indexer(indexer, value)\n"
     ]
    }
   ],
   "source": [
    "meta_labels = ml.labeling.get_bins(triple_barrier_events, sp_close)\n",
    "meta_labels[['t1']]=triple_barrier_events.t1\n",
    "meta_labels.insert(4, \"Exit_Price\", 0, True)\n",
    "\n",
    "h_exit=np.array(d_H['close'].loc[meta_labels['t1']])\n",
    "meta_labels[\"Exit_Price\"].iloc[0:]=h_exit\n",
    "print(meta_labels[-10:])\n"
   ]
  },
  {
   "cell_type": "code",
   "execution_count": 7,
   "metadata": {},
   "outputs": [],
   "source": [
    "def EVB(price,period):\n",
    "    ################################\n",
    "    #sp_close_D=pd.Series()\n",
    "    sp_close_D=price.close\n",
    "    sp_close_D.index=pd.to_datetime(sp_close_D.index[0:])\n",
    "    #print(sp_close_D[-10:])\n",
    "    sp_close_BD=np.log10(sp_close_D)\n",
    "    #print(sp_close_BD)\n",
    "    ############################3####\n",
    "    data1=np.array(sp_close_BD)\n",
    "    #print(data1[-10:])\n",
    "    alpha1=(1-np.sin(2*np.pi/period))/np.cos(2*np.pi/period)\n",
    "    a1=np.exp(-1.414*np.pi/10)\n",
    "    b1=2*a1*np.cos(1.414*np.pi/10)\n",
    "    c2=b1\n",
    "    c3=-a1*a1\n",
    "    c1=1-c2-c3\n",
    "    hp=np.zeros((data1.shape[0],1))\n",
    "    filt=np.zeros((data1.shape[0],1))\n",
    "    wave=0\n",
    "    pwr=0\n",
    "    signal=np.zeros((data1.shape[0],1))\n",
    "    for i in range(2,data1.shape[0]):\n",
    "        hp[i]=0.5*(1+alpha1)*(data1[i]-data1[i-1])+alpha1*hp[i-1]\n",
    "        filt[i]=c1*0.5*(hp[i]+hp[i-1])+c2*filt[i-1]+c3*filt[i-2]\n",
    "        wave=(filt[i]+filt[i-1]+filt[i-2])/3\n",
    "        pwr=np.sqrt((filt[i]*filt[i]+filt[i-1]*filt[i-1]+filt[i-2]*filt[i-2])/3)\n",
    "        signal[i]=wave/pwr\n",
    "    #print(signal[-5:])\n",
    "    signal=np.nan_to_num(signal)\n",
    "    price.loc[:,['signal']]=signal\n",
    "    \n",
    "    smoother1 = smoother.KalmanSmoother(component='level_trend',component_noise={'level':1/period, 'trend':1/period})\n",
    "    #ExponentialSmoother(window_len=period, alpha=0.3)\n",
    "    #BinnerSmoother(n_knots=int(period))\n",
    "    #SpectralSmoother(smooth_fraction=0.1, pad_len=period)\n",
    "    #LowessSmoother(smooth_fraction=1/period, iterations=5)\n",
    "    smoother1.smooth(signal)\n",
    "    signal_SM=smoother1.smooth_data.T\n",
    "    #print(signal_SM.shape)\n",
    "    #print(signal_SM.shape)\n",
    "    price.loc[:,['signal_SM']]=signal_SM\n",
    "    #price['signal_SM']=savgol_filter(price['signal'], int(period_s), order)\n",
    "    price['signal_yestrday']=price['signal_SM'].shift(1)\n",
    "    #print(price[-5:])\n",
    "    return price"
   ]
  },
  {
   "cell_type": "code",
   "execution_count": 8,
   "metadata": {},
   "outputs": [],
   "source": [
    "def BPF(price,period):\n",
    "    ################################\n",
    "    sp_close_D=price.close\n",
    "    sp_close_D.index=pd.to_datetime(sp_close_D.index[0:])\n",
    "    #print(sp_close_D[-10:])\n",
    "    sp_close_BD=np.log10(sp_close_D)\n",
    "    #print(sp_close_BD)\n",
    "    data1=sp_close_BD\n",
    "    ############################3####\n",
    "    bandwidth=0.33;\n",
    "    alpha1= (np.cos(0.25*2*np.pi*bandwidth/period)+np.sin(0.25*2*np.pi*bandwidth/period)-1)/np.cos(0.25*2*np.pi*bandwidth/period)\n",
    "    hp1=np.zeros((data1.shape[0],1))\n",
    "    BP=np.zeros((data1.shape[0],1))\n",
    "    peak=np.zeros((data1.shape[0],1))\n",
    "    signal_BP=np.zeros((data1.shape[0],1))\n",
    "    beta1=np.cos(2*np.pi/period)\n",
    "    gama1=1/np.cos(2*np.pi*bandwidth/period)\n",
    "    alpha2=gama1-np.sqrt(gama1**2-1)\n",
    "\n",
    "    for i in range(2,data1.shape[0]):\n",
    "        hp1[i]=(1-alpha1/2)*(data1[i]-data1[i-1])+(1-alpha1)*hp1[i-1]\n",
    "    for i in range(2,data1.shape[0]):\n",
    "        BP[i]=0.5*(1-alpha2/2)*(hp1[i]-hp1[i-2])+beta1*(1+alpha2)*BP[i-1]-alpha2*BP[i-2]\n",
    "    for i in range(2,data1.shape[0]):\n",
    "        peak[i]=0.991*peak[i-1];\n",
    "        if np.abs(BP[i])>peak[i]:\n",
    "            peak[i]=np.abs(BP[i])\n",
    "        signal_BP[i]=BP[i]/peak[i]\n",
    "        #print(signal)\n",
    "    signal_BP=np.nan_to_num(signal_BP)\n",
    "    \n",
    "    price['signal_BP']=signal_BP\n",
    "    price['BP']=BP\n",
    "    #if period>len(sp_close_D):\n",
    "        #period=len(sp_close_D)\n",
    "    smoother1 = smoother.KalmanSmoother(component='level_trend',component_noise={'level':1/period, 'trend':1/period})\n",
    "    #KalmanSmoother(component='level_trend',component_noise={'level':1/period, 'trend':1/period})\n",
    "    #ExponentialSmoother(window_len=period, alpha=0.3)\n",
    "    #BinnerSmoother(n_knots=int(period))\n",
    "    #SpectralSmoother(smooth_fraction=0.1, pad_len=period)\n",
    "    #LowessSmoother(smooth_fraction=1/period, iterations=5)\n",
    "    smoother1.smooth(BP)\n",
    "    signal_SM=smoother1.smooth_data.T\n",
    "    #print(signal_SM.shape)\n",
    "    #print(signal_SM.shape)\n",
    "    price['signal_SM']=signal_SM\n",
    "    #price['signal_SM']=savgol_filter(price['signal'], int(period_s), order)\n",
    "    price['signal_yestrday']=price['signal_SM'].shift(1)\n",
    "    #print(price[-10:])\n",
    "    return price"
   ]
  },
  {
   "cell_type": "code",
   "execution_count": 9,
   "metadata": {},
   "outputs": [
    {
     "name": "stdout",
     "output_type": "stream",
     "text": [
      "time\n",
      "2022-03-27 12:00:00    386200.0\n",
      "Name: close, dtype: float64\n",
      "                     t1      trgt  pt     sl  Action  Price  TP  SL\n",
      "2022-03-14 12:00:00 NaT  0.017483   2  2.618       0      0   0   0\n",
      "2022-03-16 13:00:00 NaT  0.021157   2  2.618       0      0   0   0\n",
      "2022-03-27 10:00:00 NaT  0.017317   2  2.618       0      0   0   0\n",
      "                          ret      trgt  bin                  t1  Exit_Price\n",
      "2022-03-05 14:00:00 -0.005530  0.022093    0 2022-03-26 10:00:00    395600.0\n",
      "2022-03-06 12:00:00  0.015140  0.022204    0 2022-03-26 10:00:00    395600.0\n",
      "2022-03-07 11:00:00  0.058020  0.023826    1 2022-03-15 10:00:00    403000.0\n",
      "2022-03-09 10:00:00  0.054328  0.019873    1 2022-03-14 12:00:00    395900.0\n",
      "2022-03-13 14:00:00  0.045396  0.015400    1 2022-03-15 10:00:00    403000.0\n"
     ]
    }
   ],
   "source": [
    "PPPP=9\n",
    "triple_barrier_events=triple_barrier_events[triple_barrier_events.index>d_H.index[PPPP*5]]\n",
    "#print(triple_barrier_events[-10:])\n",
    "is_NaN = triple_barrier_events.isnull()\n",
    "row_has_NaN = is_NaN. any(axis=1)\n",
    "Trade_signal= triple_barrier_events[row_has_NaN].copy()\n",
    "#print(Trade_signal)\n",
    "Trade_signal.insert(4, \"Action\", 0, True)\n",
    "Trade_signal.insert(5, \"Price\", 0, True)\n",
    "Trade_signal.insert(6, \"TP\", 0, True)\n",
    "Trade_signal.insert(7, \"SL\", 0, True)\n",
    "\n",
    "#print(meta_labels[-32:])\n",
    "for index1,row  in Trade_signal.iterrows():\n",
    "    #print(index1)\n",
    "    index_d=index1.replace(hour=0)\n",
    "    dR_H2=pd.DataFrame()\n",
    "    dR_D1=pd.DataFrame()\n",
    "    dR_H_BPF=pd.DataFrame()\n",
    "    dR_D2=pd.DataFrame()\n",
    "    dR_H2=d_H.loc[:index1].copy()\n",
    "    vol1=dR_H2['real_volume'].loc[index1]\n",
    "    vol12=max(np.array(dR_H2['real_volume'].iloc[-40:-34]))\n",
    "    dR_H2=EVB(dR_H2,int(period_H2))\n",
    "    dR_H_BPF=d_H.loc[:index1].copy()\n",
    "    dR_H_BPF=BPF(dR_H_BPF,int(period_H2))\n",
    "    dR_D1=d_DAILY.loc[:index_d].copy()\n",
    "    dR_D1.loc[index_d,['close']]=dR_H2.loc[index1,['close']]\n",
    "    dR_D1=BPF(dR_D1,int(period_D1))\n",
    "    dR_D2=d_DAILY.loc[:index_d].copy()\n",
    "    dR_D2.loc[index_d,['close']]=dR_H2.loc[index1,['close']]\n",
    "    dR_D2=EVB(dR_D2,int(period_D1))\n",
    "    \n",
    "    #print(index1)\n",
    "    #index_next=index1+dt.timedelta( hours=1)\n",
    "  \n",
    "       \n",
    "   \n",
    "    #index_bef=index1+dt.timedelta( hours=-1)\n",
    "    if dR_D1['signal_SM'].loc[index_d]<dR_D1['signal_yestrday'].loc[index_d] and dR_D2['signal_SM'].loc[index_d]<=-0.9 and vol1<vol12 :\n",
    "            \n",
    "        if dR_H2['signal_SM'].loc[index1]<= -0.9 and  dR_H_BPF['signal_SM'].loc[index1]<=dR_H_BPF['signal_yestrday'].loc[index1]: #or d1['signal'].loc[index1]<d1['signal'].loc[index1]\n",
    "            Trade_signal['Action'].loc[index1]=-1\n",
    "        if dR_H2['signal_SM'].loc[index1]<dR_H2['signal_yestrday'].loc[index1]  and dR_H_BPF['signal_SM'].loc[index1]<=dR_H_BPF['signal_yestrday'].loc[index1] :\n",
    "            Trade_signal['Action'].loc[index1]=-1\n",
    "            \n",
    "    elif dR_D1['signal_SM'].loc[index_d]>dR_D1['signal_yestrday'].loc[index_d]  and dR_D2['signal_SM'].loc[index_d]>=0.9 and vol1>vol12:\n",
    "                         \n",
    "        if dR_H2['signal_SM'].loc[index1]>= 0.9 and dR_H_BPF['signal_SM'].loc[index1]>= dR_H_BPF['signal_yestrday'].loc[index1]  : \n",
    "            Trade_signal['Action'].loc[index1]=1\n",
    "        if dR_H2['signal_SM'].loc[index1]>dR_H2['signal_yestrday'].loc[index1] and dR_H_BPF['signal_SM'].loc[index1]>= dR_H_BPF['signal_yestrday'].loc[index1] :\n",
    "            Trade_signal['Action'].loc[index1]=1\n",
    "          \n",
    "                         ###########################################\n",
    "    elif dR_D1['signal_SM'].loc[index_d]<dR_D1['signal_yestrday'].loc[index_d] and dR_D2['signal_SM'].loc[index_d]<dR_D2['signal_yestrday'].loc[index_d] and vol1<vol12:\n",
    "                         \n",
    "        if dR_H2['signal_SM'].loc[index1]<= -0.9 and  dR_H_BPF['signal_SM'].loc[index1]<=dR_H_BPF['signal_yestrday'].loc[index1]: #or d1['signal'].loc[index1]<d1['signal'].loc[index1]\n",
    "            Trade_signal['Action'].loc[index1]=-1\n",
    "        if dR_H2['signal_SM'].loc[index1]<dR_H2['signal_yestrday'].loc[index1]  and dR_H_BPF['signal_SM'].loc[index1]<=dR_H_BPF['signal_yestrday'].loc[index1] :\n",
    "            Trade_signal['Action'].loc[index1]=-1\n",
    "            \n",
    "    elif dR_D1['signal_SM'].loc[index_d]>dR_D1['signal_yestrday'].loc[index_d] and dR_D2['signal_SM'].loc[index_d]>dR_D2['signal_yestrday'].loc[index_d] and vol1>vol12 : \n",
    "                          \n",
    "        if dR_H2['signal_SM'].loc[index1]>= 0.9 and dR_H_BPF['signal_SM'].loc[index1]>= dR_H_BPF['signal_yestrday'].loc[index1]  : \n",
    "            Trade_signal['Action'].loc[index1]=1\n",
    "        if dR_H2['signal_SM'].loc[index1]>dR_H2['signal_yestrday'].loc[index1] and dR_H_BPF['signal_SM'].loc[index1]>= dR_H_BPF['signal_yestrday'].loc[index1] :\n",
    "            Trade_signal['Action'].loc[index1]=1\n",
    "    \n",
    "    \n",
    "    \n",
    "for index2,row1  in Trade_signal.iterrows():\n",
    "    if row1.Action!=0:\n",
    "        Trade_signal.loc[index2,['Price']]=d_H['close'].loc[index2]\n",
    "        #print(\"Price=\"+str(d1['close'].loc[index2]))\n",
    "        #print(pt_sl[0])\n",
    "        Trade_signal.loc[index2,['TP']]=round((d_H['close'].loc[index2]+d_H['close'].loc[index2]*pt_sl[1]*row1.trgt*row1.Action*1)/100)*100\n",
    "        #print(\"TP=\"+str(round(TP1)))\n",
    "        Trade_signal.loc[index2,['SL']]=round((d_H['close'].loc[index2]-d_H['close'].loc[index2]*pt_sl[0]*row1.trgt*row1.Action*1)/100)*100\n",
    "print(d_H['close'].iloc[-1:])\n",
    "print(Trade_signal[-5:])\n",
    "print(meta_labels[-5:])"
   ]
  },
  {
   "cell_type": "code",
   "execution_count": null,
   "metadata": {},
   "outputs": [],
   "source": []
  },
  {
   "cell_type": "code",
   "execution_count": null,
   "metadata": {},
   "outputs": [],
   "source": []
  },
  {
   "cell_type": "code",
   "execution_count": null,
   "metadata": {},
   "outputs": [],
   "source": []
  }
 ],
 "metadata": {
  "kernelspec": {
   "display_name": "Python 3",
   "language": "python",
   "name": "python3"
  },
  "language_info": {
   "codemirror_mode": {
    "name": "ipython",
    "version": 3
   },
   "file_extension": ".py",
   "mimetype": "text/x-python",
   "name": "python",
   "nbconvert_exporter": "python",
   "pygments_lexer": "ipython3",
   "version": "3.8.8"
  }
 },
 "nbformat": 4,
 "nbformat_minor": 4
}
